{
 "cells": [
  {
   "cell_type": "code",
   "execution_count": 1,
   "id": "27358040",
   "metadata": {},
   "outputs": [
    {
     "name": "stdout",
     "output_type": "stream",
     "text": [
      "Swift         700000\n",
      "Jazz          800000\n",
      "Civic        1600000\n",
      "Altis        1800000\n",
      "Gallardo    30000000\n",
      "dtype: int64\n",
      "Swift            Maruti\n",
      "Jazz              Honda\n",
      "Civic             Honda\n",
      "Altis            Toyota\n",
      "Gallardo    Lamborghini\n",
      "dtype: object\n"
     ]
    }
   ],
   "source": [
    "#Creating a car price series with a dictionary\n",
    "import pandas as pd\n",
    "car_price_dict = {'Swift':  700000,\n",
    "                       'Jazz' :  800000,\n",
    "                       'Civic' : 1600000,\n",
    "                       'Altis' : 1800000,\n",
    "                       'Gallardo': 30000000\n",
    "                      }\n",
    "car_price = pd.Series(car_price_dict)\n",
    "# Creating the car manufacturer series with a dictionary\n",
    "car_man_dict = {'Swift' : 'Maruti',\n",
    "                  'Jazz'   : 'Honda',\n",
    "                  'Civic'  : 'Honda',\n",
    "                  'Altis'  : 'Toyota',\n",
    "                   'Gallardo' : 'Lamborghini'}\n",
    "car_man = pd.Series(car_man_dict)\n",
    "print(car_price)\n",
    "print(car_man)\n"
   ]
  },
  {
   "cell_type": "code",
   "execution_count": 8,
   "id": "b0f7a97b",
   "metadata": {},
   "outputs": [
    {
     "data": {
      "text/html": [
       "<div>\n",
       "<style scoped>\n",
       "    .dataframe tbody tr th:only-of-type {\n",
       "        vertical-align: middle;\n",
       "    }\n",
       "\n",
       "    .dataframe tbody tr th {\n",
       "        vertical-align: top;\n",
       "    }\n",
       "\n",
       "    .dataframe thead th {\n",
       "        text-align: right;\n",
       "    }\n",
       "</style>\n",
       "<table border=\"1\" class=\"dataframe\">\n",
       "  <thead>\n",
       "    <tr style=\"text-align: right;\">\n",
       "      <th></th>\n",
       "      <th>Price</th>\n",
       "      <th>Manufacturer</th>\n",
       "    </tr>\n",
       "  </thead>\n",
       "  <tbody>\n",
       "    <tr>\n",
       "      <th>Swift</th>\n",
       "      <td>700000</td>\n",
       "      <td>Maruti</td>\n",
       "    </tr>\n",
       "    <tr>\n",
       "      <th>Jazz</th>\n",
       "      <td>800000</td>\n",
       "      <td>Honda</td>\n",
       "    </tr>\n",
       "    <tr>\n",
       "      <th>Civic</th>\n",
       "      <td>1600000</td>\n",
       "      <td>Honda</td>\n",
       "    </tr>\n",
       "    <tr>\n",
       "      <th>Altis</th>\n",
       "      <td>1800000</td>\n",
       "      <td>Toyota</td>\n",
       "    </tr>\n",
       "    <tr>\n",
       "      <th>Gallardo</th>\n",
       "      <td>30000000</td>\n",
       "      <td>Lamborghini</td>\n",
       "    </tr>\n",
       "  </tbody>\n",
       "</table>\n",
       "</div>"
      ],
      "text/plain": [
       "             Price Manufacturer\n",
       "Swift       700000       Maruti\n",
       "Jazz        800000        Honda\n",
       "Civic      1600000        Honda\n",
       "Altis      1800000       Toyota\n",
       "Gallardo  30000000  Lamborghini"
      ]
     },
     "execution_count": 8,
     "metadata": {},
     "output_type": "execute_result"
    }
   ],
   "source": [
    "cars_df = pd.DataFrame({'Price' : car_price, 'Manufacturer' : car_man_dict})\n"
   ]
  },
  {
   "cell_type": "code",
   "execution_count": 8,
   "id": "41328a46",
   "metadata": {},
   "outputs": [
    {
     "data": {
      "text/html": [
       "<div>\n",
       "<style scoped>\n",
       "    .dataframe tbody tr th:only-of-type {\n",
       "        vertical-align: middle;\n",
       "    }\n",
       "\n",
       "    .dataframe tbody tr th {\n",
       "        vertical-align: top;\n",
       "    }\n",
       "\n",
       "    .dataframe thead th {\n",
       "        text-align: right;\n",
       "    }\n",
       "</style>\n",
       "<table border=\"1\" class=\"dataframe\">\n",
       "  <thead>\n",
       "    <tr style=\"text-align: right;\">\n",
       "      <th></th>\n",
       "      <th>Price</th>\n",
       "    </tr>\n",
       "  </thead>\n",
       "  <tbody>\n",
       "    <tr>\n",
       "      <th>count</th>\n",
       "      <td>5.000000e+00</td>\n",
       "    </tr>\n",
       "    <tr>\n",
       "      <th>mean</th>\n",
       "      <td>6.980000e+06</td>\n",
       "    </tr>\n",
       "    <tr>\n",
       "      <th>std</th>\n",
       "      <td>1.287758e+07</td>\n",
       "    </tr>\n",
       "    <tr>\n",
       "      <th>min</th>\n",
       "      <td>7.000000e+05</td>\n",
       "    </tr>\n",
       "    <tr>\n",
       "      <th>25%</th>\n",
       "      <td>8.000000e+05</td>\n",
       "    </tr>\n",
       "    <tr>\n",
       "      <th>50%</th>\n",
       "      <td>1.600000e+06</td>\n",
       "    </tr>\n",
       "    <tr>\n",
       "      <th>75%</th>\n",
       "      <td>1.800000e+06</td>\n",
       "    </tr>\n",
       "    <tr>\n",
       "      <th>max</th>\n",
       "      <td>3.000000e+07</td>\n",
       "    </tr>\n",
       "  </tbody>\n",
       "</table>\n",
       "</div>"
      ],
      "text/plain": [
       "              Price\n",
       "count  5.000000e+00\n",
       "mean   6.980000e+06\n",
       "std    1.287758e+07\n",
       "min    7.000000e+05\n",
       "25%    8.000000e+05\n",
       "50%    1.600000e+06\n",
       "75%    1.800000e+06\n",
       "max    3.000000e+07"
      ]
     },
     "execution_count": 8,
     "metadata": {},
     "output_type": "execute_result"
    }
   ],
   "source": [
    "#Details about the dataset\n",
    "cars_df.describe()"
   ]
  },
  {
   "cell_type": "code",
   "execution_count": 9,
   "id": "3b49bad4",
   "metadata": {},
   "outputs": [
    {
     "data": {
      "text/html": [
       "<div>\n",
       "<style scoped>\n",
       "    .dataframe tbody tr th:only-of-type {\n",
       "        vertical-align: middle;\n",
       "    }\n",
       "\n",
       "    .dataframe tbody tr th {\n",
       "        vertical-align: top;\n",
       "    }\n",
       "\n",
       "    .dataframe thead th {\n",
       "        text-align: right;\n",
       "    }\n",
       "</style>\n",
       "<table border=\"1\" class=\"dataframe\">\n",
       "  <thead>\n",
       "    <tr style=\"text-align: right;\">\n",
       "      <th></th>\n",
       "      <th>index</th>\n",
       "      <th>Price</th>\n",
       "      <th>Manufacturer</th>\n",
       "    </tr>\n",
       "  </thead>\n",
       "  <tbody>\n",
       "    <tr>\n",
       "      <th>1</th>\n",
       "      <td>Altis</td>\n",
       "      <td>1800000</td>\n",
       "      <td>Toyota</td>\n",
       "    </tr>\n",
       "    <tr>\n",
       "      <th>2</th>\n",
       "      <td>Civic</td>\n",
       "      <td>1600000</td>\n",
       "      <td>Honda</td>\n",
       "    </tr>\n",
       "    <tr>\n",
       "      <th>3</th>\n",
       "      <td>Jazz</td>\n",
       "      <td>800000</td>\n",
       "      <td>Honda</td>\n",
       "    </tr>\n",
       "  </tbody>\n",
       "</table>\n",
       "</div>"
      ],
      "text/plain": [
       "   index    Price Manufacturer\n",
       "1  Altis  1800000       Toyota\n",
       "2  Civic  1600000        Honda\n",
       "3   Jazz   800000        Honda"
      ]
     },
     "execution_count": 9,
     "metadata": {},
     "output_type": "execute_result"
    }
   ],
   "source": [
    "#Deriving Top3 customers using SQL and Pandas\n",
    "import sqlite3 as sl\n",
    "conn = sl.connect(':memory:')\n",
    "cars_df.to_sql('Cars',conn, if_exists = 'replace')\n",
    "\n",
    "query = \"\"\"\n",
    "\n",
    "select * from Cars order by Price desc \n",
    "\"\"\"\n",
    "\n",
    "costly_cars = pd.read_sql(query, con =conn)\n",
    "\n",
    "costly_cars[1:4]"
   ]
  },
  {
   "cell_type": "code",
   "execution_count": 4,
   "id": "f9b33494",
   "metadata": {},
   "outputs": [
    {
     "name": "stdout",
     "output_type": "stream",
     "text": [
      "<class 'pandas.core.frame.DataFrame'>\n",
      "Index: 5 entries, Swift to Gallardo\n",
      "Data columns (total 2 columns):\n",
      " #   Column        Non-Null Count  Dtype \n",
      "---  ------        --------------  ----- \n",
      " 0   Price         5 non-null      int64 \n",
      " 1   Manufacturer  5 non-null      object\n",
      "dtypes: int64(1), object(1)\n",
      "memory usage: 120.0+ bytes\n"
     ]
    }
   ],
   "source": [
    "#Checking for Null values\n",
    "cars_df.info()"
   ]
  },
  {
   "cell_type": "code",
   "execution_count": 15,
   "id": "8a136618",
   "metadata": {},
   "outputs": [
    {
     "data": {
      "text/html": [
       "<div>\n",
       "<style scoped>\n",
       "    .dataframe tbody tr th:only-of-type {\n",
       "        vertical-align: middle;\n",
       "    }\n",
       "\n",
       "    .dataframe tbody tr th {\n",
       "        vertical-align: top;\n",
       "    }\n",
       "\n",
       "    .dataframe thead th {\n",
       "        text-align: right;\n",
       "    }\n",
       "</style>\n",
       "<table border=\"1\" class=\"dataframe\">\n",
       "  <thead>\n",
       "    <tr style=\"text-align: right;\">\n",
       "      <th></th>\n",
       "      <th>Price</th>\n",
       "      <th>Manufacturer</th>\n",
       "    </tr>\n",
       "  </thead>\n",
       "  <tbody>\n",
       "    <tr>\n",
       "      <th>Jazz</th>\n",
       "      <td>800000</td>\n",
       "      <td>Honda</td>\n",
       "    </tr>\n",
       "    <tr>\n",
       "      <th>Civic</th>\n",
       "      <td>1600000</td>\n",
       "      <td>Honda</td>\n",
       "    </tr>\n",
       "  </tbody>\n",
       "</table>\n",
       "</div>"
      ],
      "text/plain": [
       "         Price Manufacturer\n",
       "Jazz    800000        Honda\n",
       "Civic  1600000        Honda"
      ]
     },
     "execution_count": 15,
     "metadata": {},
     "output_type": "execute_result"
    }
   ],
   "source": [
    "#Filtering Honda manufacturer\n",
    "cars_df.loc[cars_df['Manufacturer'] == 'Honda']"
   ]
  },
  {
   "cell_type": "code",
   "execution_count": 21,
   "id": "b3c4bdc8",
   "metadata": {},
   "outputs": [
    {
     "data": {
      "text/html": [
       "<div>\n",
       "<style scoped>\n",
       "    .dataframe tbody tr th:only-of-type {\n",
       "        vertical-align: middle;\n",
       "    }\n",
       "\n",
       "    .dataframe tbody tr th {\n",
       "        vertical-align: top;\n",
       "    }\n",
       "\n",
       "    .dataframe thead th {\n",
       "        text-align: right;\n",
       "    }\n",
       "</style>\n",
       "<table border=\"1\" class=\"dataframe\">\n",
       "  <thead>\n",
       "    <tr style=\"text-align: right;\">\n",
       "      <th></th>\n",
       "      <th>min</th>\n",
       "      <th>max</th>\n",
       "    </tr>\n",
       "    <tr>\n",
       "      <th>Manufacturer</th>\n",
       "      <th></th>\n",
       "      <th></th>\n",
       "    </tr>\n",
       "  </thead>\n",
       "  <tbody>\n",
       "    <tr>\n",
       "      <th>Honda</th>\n",
       "      <td>800000</td>\n",
       "      <td>1600000</td>\n",
       "    </tr>\n",
       "    <tr>\n",
       "      <th>Lamborghini</th>\n",
       "      <td>30000000</td>\n",
       "      <td>30000000</td>\n",
       "    </tr>\n",
       "    <tr>\n",
       "      <th>Maruti</th>\n",
       "      <td>700000</td>\n",
       "      <td>700000</td>\n",
       "    </tr>\n",
       "    <tr>\n",
       "      <th>Toyota</th>\n",
       "      <td>1800000</td>\n",
       "      <td>1800000</td>\n",
       "    </tr>\n",
       "  </tbody>\n",
       "</table>\n",
       "</div>"
      ],
      "text/plain": [
       "                   min       max\n",
       "Manufacturer                    \n",
       "Honda           800000   1600000\n",
       "Lamborghini   30000000  30000000\n",
       "Maruti          700000    700000\n",
       "Toyota         1800000   1800000"
      ]
     },
     "execution_count": 21,
     "metadata": {},
     "output_type": "execute_result"
    }
   ],
   "source": [
    "#Manufacturer minimum and maximum price\n",
    "Manuf_price = cars_df.groupby('Manufacturer')['Price'].aggregate( ['min','max'])\n",
    "Manuf_price"
   ]
  },
  {
   "cell_type": "code",
   "execution_count": 32,
   "id": "5a5ec5ec",
   "metadata": {},
   "outputs": [
    {
     "data": {
      "text/html": [
       "<div>\n",
       "<style scoped>\n",
       "    .dataframe tbody tr th:only-of-type {\n",
       "        vertical-align: middle;\n",
       "    }\n",
       "\n",
       "    .dataframe tbody tr th {\n",
       "        vertical-align: top;\n",
       "    }\n",
       "\n",
       "    .dataframe thead th {\n",
       "        text-align: right;\n",
       "    }\n",
       "</style>\n",
       "<table border=\"1\" class=\"dataframe\">\n",
       "  <thead>\n",
       "    <tr style=\"text-align: right;\">\n",
       "      <th></th>\n",
       "      <th>index</th>\n",
       "      <th>Price</th>\n",
       "      <th>Manufacturer</th>\n",
       "    </tr>\n",
       "  </thead>\n",
       "  <tbody>\n",
       "    <tr>\n",
       "      <th>0</th>\n",
       "      <td>Swift</td>\n",
       "      <td>700000</td>\n",
       "      <td>Maruti</td>\n",
       "    </tr>\n",
       "    <tr>\n",
       "      <th>1</th>\n",
       "      <td>Jazz</td>\n",
       "      <td>800000</td>\n",
       "      <td>Honda</td>\n",
       "    </tr>\n",
       "    <tr>\n",
       "      <th>2</th>\n",
       "      <td>Civic</td>\n",
       "      <td>1600000</td>\n",
       "      <td>Honda</td>\n",
       "    </tr>\n",
       "    <tr>\n",
       "      <th>3</th>\n",
       "      <td>Altis</td>\n",
       "      <td>1800000</td>\n",
       "      <td>Toyota</td>\n",
       "    </tr>\n",
       "    <tr>\n",
       "      <th>4</th>\n",
       "      <td>Gallardo</td>\n",
       "      <td>30000000</td>\n",
       "      <td>Lamborghini</td>\n",
       "    </tr>\n",
       "  </tbody>\n",
       "</table>\n",
       "</div>"
      ],
      "text/plain": [
       "      index     Price Manufacturer\n",
       "0     Swift    700000       Maruti\n",
       "1      Jazz    800000        Honda\n",
       "2     Civic   1600000        Honda\n",
       "3     Altis   1800000       Toyota\n",
       "4  Gallardo  30000000  Lamborghini"
      ]
     },
     "execution_count": 32,
     "metadata": {},
     "output_type": "execute_result"
    }
   ],
   "source": [
    "Indexing = cars_df.reset_index()\n",
    "Indexing "
   ]
  },
  {
   "cell_type": "code",
   "execution_count": null,
   "id": "e8fc89da",
   "metadata": {},
   "outputs": [],
   "source": []
  },
  {
   "cell_type": "code",
   "execution_count": null,
   "id": "db018ebe",
   "metadata": {},
   "outputs": [],
   "source": []
  }
 ],
 "metadata": {
  "kernelspec": {
   "display_name": "Python 3 (ipykernel)",
   "language": "python",
   "name": "python3"
  },
  "language_info": {
   "codemirror_mode": {
    "name": "ipython",
    "version": 3
   },
   "file_extension": ".py",
   "mimetype": "text/x-python",
   "name": "python",
   "nbconvert_exporter": "python",
   "pygments_lexer": "ipython3",
   "version": "3.9.13"
  }
 },
 "nbformat": 4,
 "nbformat_minor": 5
}
